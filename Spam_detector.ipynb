{
 "cells": [
  {
   "cell_type": "markdown",
   "metadata": {},
   "source": [
    "### Spam Detector Demonstration (Sentiment Classification)\n",
    "This model performs spam detection on emails, classifying them as spam or not spam.\n",
    "Contact: rohan11parekh@gmail.com"
   ]
  },
  {
   "cell_type": "markdown",
   "metadata": {},
   "source": [
    "Imports"
   ]
  },
  {
   "cell_type": "code",
   "execution_count": 1,
   "metadata": {},
   "outputs": [],
   "source": [
    "import numpy as np\n",
    "import tensorflow as tf\n",
    "import nltk\n",
    "import re\n",
    "import pandas as pd\n",
    "from collections import Counter\n",
    "from nltk.tokenize import word_tokenize\n",
    "import torch\n",
    "import torch.nn as nn\n",
    "import torch.optim as optim\n",
    "from torch.utils.data import Dataset\n",
    "from torchvision import datasets\n",
    "from torchvision.transforms import ToTensor\n",
    "import torch.nn.functional as F"
   ]
  },
  {
   "cell_type": "code",
   "execution_count": null,
   "metadata": {},
   "outputs": [
    {
     "data": {
      "text/plain": [
       "device(type='cpu')"
      ]
     },
     "execution_count": 2,
     "metadata": {},
     "output_type": "execute_result"
    }
   ],
   "source": [
    "# Setting Pytorch device\n",
    "device = torch.device(\"cpu\")\n",
    "device"
   ]
  },
  {
   "cell_type": "markdown",
   "metadata": {},
   "source": [
    "Reading the data from csv using Pandas"
   ]
  },
  {
   "cell_type": "code",
   "execution_count": 50,
   "metadata": {},
   "outputs": [],
   "source": [
    "data = pd.read_csv('datasets/Emails.csv')"
   ]
  },
  {
   "cell_type": "code",
   "execution_count": 51,
   "metadata": {},
   "outputs": [
    {
     "data": {
      "text/html": [
       "<div>\n",
       "<style scoped>\n",
       "    .dataframe tbody tr th:only-of-type {\n",
       "        vertical-align: middle;\n",
       "    }\n",
       "\n",
       "    .dataframe tbody tr th {\n",
       "        vertical-align: top;\n",
       "    }\n",
       "\n",
       "    .dataframe thead th {\n",
       "        text-align: right;\n",
       "    }\n",
       "</style>\n",
       "<table border=\"1\" class=\"dataframe\">\n",
       "  <thead>\n",
       "    <tr style=\"text-align: right;\">\n",
       "      <th></th>\n",
       "      <th>Unnamed: 0</th>\n",
       "      <th>Body</th>\n",
       "      <th>Label</th>\n",
       "    </tr>\n",
       "  </thead>\n",
       "  <tbody>\n",
       "    <tr>\n",
       "      <th>0</th>\n",
       "      <td>0</td>\n",
       "      <td>\\nSave up to 70% on Life Insurance.\\nWhy Spend...</td>\n",
       "      <td>1</td>\n",
       "    </tr>\n",
       "    <tr>\n",
       "      <th>1</th>\n",
       "      <td>1</td>\n",
       "      <td>1) Fight The Risk of Cancer!\\nhttp://www.adcli...</td>\n",
       "      <td>1</td>\n",
       "    </tr>\n",
       "    <tr>\n",
       "      <th>2</th>\n",
       "      <td>2</td>\n",
       "      <td>1) Fight The Risk of Cancer!\\nhttp://www.adcli...</td>\n",
       "      <td>1</td>\n",
       "    </tr>\n",
       "    <tr>\n",
       "      <th>3</th>\n",
       "      <td>3</td>\n",
       "      <td>##############################################...</td>\n",
       "      <td>1</td>\n",
       "    </tr>\n",
       "    <tr>\n",
       "      <th>4</th>\n",
       "      <td>4</td>\n",
       "      <td>I thought you might like these:\\n1) Slim Down ...</td>\n",
       "      <td>1</td>\n",
       "    </tr>\n",
       "    <tr>\n",
       "      <th>...</th>\n",
       "      <td>...</td>\n",
       "      <td>...</td>\n",
       "      <td>...</td>\n",
       "    </tr>\n",
       "    <tr>\n",
       "      <th>6041</th>\n",
       "      <td>6041</td>\n",
       "      <td>empty</td>\n",
       "      <td>0</td>\n",
       "    </tr>\n",
       "    <tr>\n",
       "      <th>6042</th>\n",
       "      <td>6042</td>\n",
       "      <td>___           ___           ...</td>\n",
       "      <td>0</td>\n",
       "    </tr>\n",
       "    <tr>\n",
       "      <th>6043</th>\n",
       "      <td>6043</td>\n",
       "      <td>IN THIS ISSUE:01. Readers write\\n02. Extension...</td>\n",
       "      <td>0</td>\n",
       "    </tr>\n",
       "    <tr>\n",
       "      <th>6044</th>\n",
       "      <td>6044</td>\n",
       "      <td>empty</td>\n",
       "      <td>0</td>\n",
       "    </tr>\n",
       "    <tr>\n",
       "      <th>6045</th>\n",
       "      <td>6045</td>\n",
       "      <td>empty</td>\n",
       "      <td>0</td>\n",
       "    </tr>\n",
       "  </tbody>\n",
       "</table>\n",
       "<p>6046 rows × 3 columns</p>\n",
       "</div>"
      ],
      "text/plain": [
       "      Unnamed: 0                                               Body  Label\n",
       "0              0  \\nSave up to 70% on Life Insurance.\\nWhy Spend...      1\n",
       "1              1  1) Fight The Risk of Cancer!\\nhttp://www.adcli...      1\n",
       "2              2  1) Fight The Risk of Cancer!\\nhttp://www.adcli...      1\n",
       "3              3  ##############################################...      1\n",
       "4              4  I thought you might like these:\\n1) Slim Down ...      1\n",
       "...          ...                                                ...    ...\n",
       "6041        6041                                              empty      0\n",
       "6042        6042                    ___           ___           ...      0\n",
       "6043        6043  IN THIS ISSUE:01. Readers write\\n02. Extension...      0\n",
       "6044        6044                                              empty      0\n",
       "6045        6045                                              empty      0\n",
       "\n",
       "[6046 rows x 3 columns]"
      ]
     },
     "execution_count": 51,
     "metadata": {},
     "output_type": "execute_result"
    }
   ],
   "source": [
    "data"
   ]
  },
  {
   "cell_type": "markdown",
   "metadata": {},
   "source": [
    "Visualizing the ratio of spam to non-spam emails"
   ]
  },
  {
   "cell_type": "code",
   "execution_count": 52,
   "metadata": {},
   "outputs": [
    {
     "name": "stdout",
     "output_type": "stream",
     "text": [
      "Spam: 1896\n",
      "Not spam: 4150\n"
     ]
    }
   ],
   "source": [
    "print(\"Spam:\", data['Label'].value_counts()[1] )\n",
    "print(\"Not spam:\", data['Label'].value_counts()[0])"
   ]
  },
  {
   "cell_type": "markdown",
   "metadata": {},
   "source": [
    "Note: 1 = spam, 0 = legit\n",
    "\n",
    "Now to clean the dataset of unused columns, null values, etc."
   ]
  },
  {
   "cell_type": "code",
   "execution_count": 53,
   "metadata": {},
   "outputs": [
    {
     "data": {
      "text/html": [
       "<div>\n",
       "<style scoped>\n",
       "    .dataframe tbody tr th:only-of-type {\n",
       "        vertical-align: middle;\n",
       "    }\n",
       "\n",
       "    .dataframe tbody tr th {\n",
       "        vertical-align: top;\n",
       "    }\n",
       "\n",
       "    .dataframe thead th {\n",
       "        text-align: right;\n",
       "    }\n",
       "</style>\n",
       "<table border=\"1\" class=\"dataframe\">\n",
       "  <thead>\n",
       "    <tr style=\"text-align: right;\">\n",
       "      <th></th>\n",
       "      <th>Unnamed: 0</th>\n",
       "      <th>Body</th>\n",
       "      <th>Label</th>\n",
       "    </tr>\n",
       "  </thead>\n",
       "  <tbody>\n",
       "    <tr>\n",
       "      <th>0</th>\n",
       "      <td>0</td>\n",
       "      <td>\\nSave up to 70% on Life Insurance.\\nWhy Spend...</td>\n",
       "      <td>1</td>\n",
       "    </tr>\n",
       "    <tr>\n",
       "      <th>1</th>\n",
       "      <td>1</td>\n",
       "      <td>1) Fight The Risk of Cancer!\\nhttp://www.adcli...</td>\n",
       "      <td>1</td>\n",
       "    </tr>\n",
       "    <tr>\n",
       "      <th>2</th>\n",
       "      <td>2</td>\n",
       "      <td>1) Fight The Risk of Cancer!\\nhttp://www.adcli...</td>\n",
       "      <td>1</td>\n",
       "    </tr>\n",
       "    <tr>\n",
       "      <th>3</th>\n",
       "      <td>3</td>\n",
       "      <td>##############################################...</td>\n",
       "      <td>1</td>\n",
       "    </tr>\n",
       "    <tr>\n",
       "      <th>4</th>\n",
       "      <td>4</td>\n",
       "      <td>I thought you might like these:\\n1) Slim Down ...</td>\n",
       "      <td>1</td>\n",
       "    </tr>\n",
       "    <tr>\n",
       "      <th>...</th>\n",
       "      <td>...</td>\n",
       "      <td>...</td>\n",
       "      <td>...</td>\n",
       "    </tr>\n",
       "    <tr>\n",
       "      <th>6033</th>\n",
       "      <td>6033</td>\n",
       "      <td>----------------------------------------------...</td>\n",
       "      <td>0</td>\n",
       "    </tr>\n",
       "    <tr>\n",
       "      <th>6034</th>\n",
       "      <td>6034</td>\n",
       "      <td>EFFector       Vol. 15, No. 35       November ...</td>\n",
       "      <td>0</td>\n",
       "    </tr>\n",
       "    <tr>\n",
       "      <th>6039</th>\n",
       "      <td>6039</td>\n",
       "      <td>\\nWe have extended our Free seat sale until Th...</td>\n",
       "      <td>0</td>\n",
       "    </tr>\n",
       "    <tr>\n",
       "      <th>6042</th>\n",
       "      <td>6042</td>\n",
       "      <td>___           ___           ...</td>\n",
       "      <td>0</td>\n",
       "    </tr>\n",
       "    <tr>\n",
       "      <th>6043</th>\n",
       "      <td>6043</td>\n",
       "      <td>IN THIS ISSUE:01. Readers write\\n02. Extension...</td>\n",
       "      <td>0</td>\n",
       "    </tr>\n",
       "  </tbody>\n",
       "</table>\n",
       "<p>5513 rows × 3 columns</p>\n",
       "</div>"
      ],
      "text/plain": [
       "      Unnamed: 0                                               Body  Label\n",
       "0              0  \\nSave up to 70% on Life Insurance.\\nWhy Spend...      1\n",
       "1              1  1) Fight The Risk of Cancer!\\nhttp://www.adcli...      1\n",
       "2              2  1) Fight The Risk of Cancer!\\nhttp://www.adcli...      1\n",
       "3              3  ##############################################...      1\n",
       "4              4  I thought you might like these:\\n1) Slim Down ...      1\n",
       "...          ...                                                ...    ...\n",
       "6033        6033  ----------------------------------------------...      0\n",
       "6034        6034  EFFector       Vol. 15, No. 35       November ...      0\n",
       "6039        6039  \\nWe have extended our Free seat sale until Th...      0\n",
       "6042        6042                    ___           ___           ...      0\n",
       "6043        6043  IN THIS ISSUE:01. Readers write\\n02. Extension...      0\n",
       "\n",
       "[5513 rows x 3 columns]"
      ]
     },
     "execution_count": 53,
     "metadata": {},
     "output_type": "execute_result"
    }
   ],
   "source": [
    "value_to_remove = 'empty'\n",
    "df = data[~data.apply(lambda row: value_to_remove in row.values, axis=1)]\n",
    "df"
   ]
  },
  {
   "cell_type": "code",
   "execution_count": 7,
   "metadata": {},
   "outputs": [
    {
     "data": {
      "text/html": [
       "<div>\n",
       "<style scoped>\n",
       "    .dataframe tbody tr th:only-of-type {\n",
       "        vertical-align: middle;\n",
       "    }\n",
       "\n",
       "    .dataframe tbody tr th {\n",
       "        vertical-align: top;\n",
       "    }\n",
       "\n",
       "    .dataframe thead th {\n",
       "        text-align: right;\n",
       "    }\n",
       "</style>\n",
       "<table border=\"1\" class=\"dataframe\">\n",
       "  <thead>\n",
       "    <tr style=\"text-align: right;\">\n",
       "      <th></th>\n",
       "      <th>Unnamed: 0</th>\n",
       "      <th>Body</th>\n",
       "      <th>Label</th>\n",
       "    </tr>\n",
       "  </thead>\n",
       "  <tbody>\n",
       "    <tr>\n",
       "      <th>0</th>\n",
       "      <td>5881</td>\n",
       "      <td>\\nShopper Newsletter: Alerts1\\nCanon PowerShot...</td>\n",
       "      <td>0</td>\n",
       "    </tr>\n",
       "    <tr>\n",
       "      <th>1</th>\n",
       "      <td>379</td>\n",
       "      <td>\\nNever Pay Retail!\\nUnleash \\n               ...</td>\n",
       "      <td>1</td>\n",
       "    </tr>\n",
       "    <tr>\n",
       "      <th>2</th>\n",
       "      <td>1617</td>\n",
       "      <td>When America's top companies compete for your ...</td>\n",
       "      <td>1</td>\n",
       "    </tr>\n",
       "    <tr>\n",
       "      <th>3</th>\n",
       "      <td>3927</td>\n",
       "      <td>URL: http://www.newsisfree.com/click/-4,828978...</td>\n",
       "      <td>0</td>\n",
       "    </tr>\n",
       "    <tr>\n",
       "      <th>4</th>\n",
       "      <td>1875</td>\n",
       "      <td>Friend, We have recently been introduced to an...</td>\n",
       "      <td>1</td>\n",
       "    </tr>\n",
       "    <tr>\n",
       "      <th>...</th>\n",
       "      <td>...</td>\n",
       "      <td>...</td>\n",
       "      <td>...</td>\n",
       "    </tr>\n",
       "    <tr>\n",
       "      <th>5508</th>\n",
       "      <td>4387</td>\n",
       "      <td>Carlos Luna wrote:&gt;Hi all.\\n&gt;Does anyone know ...</td>\n",
       "      <td>0</td>\n",
       "    </tr>\n",
       "    <tr>\n",
       "      <th>5509</th>\n",
       "      <td>1652</td>\n",
       "      <td>Hi !My name is Wayne Harrison and I would like...</td>\n",
       "      <td>1</td>\n",
       "    </tr>\n",
       "    <tr>\n",
       "      <th>5510</th>\n",
       "      <td>384</td>\n",
       "      <td>\\nMarketingonTarget.com has teamed up \\n      ...</td>\n",
       "      <td>1</td>\n",
       "    </tr>\n",
       "    <tr>\n",
       "      <th>5511</th>\n",
       "      <td>4876</td>\n",
       "      <td>Hi i have a phillips head skrew thats holding ...</td>\n",
       "      <td>0</td>\n",
       "    </tr>\n",
       "    <tr>\n",
       "      <th>5512</th>\n",
       "      <td>5358</td>\n",
       "      <td>Okay okay... after reading further I realized ...</td>\n",
       "      <td>0</td>\n",
       "    </tr>\n",
       "  </tbody>\n",
       "</table>\n",
       "<p>5513 rows × 3 columns</p>\n",
       "</div>"
      ],
      "text/plain": [
       "      Unnamed: 0                                               Body  Label\n",
       "0           5881  \\nShopper Newsletter: Alerts1\\nCanon PowerShot...      0\n",
       "1            379  \\nNever Pay Retail!\\nUnleash \\n               ...      1\n",
       "2           1617  When America's top companies compete for your ...      1\n",
       "3           3927  URL: http://www.newsisfree.com/click/-4,828978...      0\n",
       "4           1875  Friend, We have recently been introduced to an...      1\n",
       "...          ...                                                ...    ...\n",
       "5508        4387  Carlos Luna wrote:>Hi all.\\n>Does anyone know ...      0\n",
       "5509        1652  Hi !My name is Wayne Harrison and I would like...      1\n",
       "5510         384  \\nMarketingonTarget.com has teamed up \\n      ...      1\n",
       "5511        4876  Hi i have a phillips head skrew thats holding ...      0\n",
       "5512        5358  Okay okay... after reading further I realized ...      0\n",
       "\n",
       "[5513 rows x 3 columns]"
      ]
     },
     "execution_count": 7,
     "metadata": {},
     "output_type": "execute_result"
    }
   ],
   "source": [
    "df = df.sample(frac=1).reset_index(drop=True)\n",
    "df"
   ]
  },
  {
   "cell_type": "code",
   "execution_count": 54,
   "metadata": {},
   "outputs": [
    {
     "name": "stdout",
     "output_type": "stream",
     "text": [
      "Spam: 1561\n",
      "Not spam: 3952\n"
     ]
    }
   ],
   "source": [
    "print(\"Spam:\", df['Label'].value_counts()[1])\n",
    "print(\"Not spam:\", df['Label'].value_counts()[0])"
   ]
  },
  {
   "cell_type": "code",
   "execution_count": 55,
   "metadata": {},
   "outputs": [
    {
     "data": {
      "text/plain": [
       "array([\"\\nSave up to 70% on Life Insurance.\\nWhy Spend More Than You Have To?Life Quote Savings\\nEnsuring your \\n      family's financial security is very important. Life Quote Savings makes \\n      buying life insurance simple and affordable. We Provide FREE Access to The \\n      Very Best Companies and The Lowest Rates.Life Quote Savings is FAST, EASY and \\n            SAVES you money! Let us help you get started with the best values in \\n            the country on new coverage. You can SAVE hundreds or even thousands \\n            of dollars by requesting a FREE quote from Lifequote Savings. Our \\n            service will take you less than 5 minutes to complete. Shop and \\n            compare. SAVE up to 70% on all types of Life insurance! Click Here For Your \\n            Free Quote!Protecting your family is the best investment you'll ever \\n          make!\\nIf you are in receipt of this email \\n      in error and/or wish to be removed from our list, PLEASE CLICK HERE AND TYPE REMOVE. If you \\n      reside in any state which prohibits e-mail solicitations for insurance, \\n      please disregard this \\n      email.\\n\",\n",
       "       \"1) Fight The Risk of Cancer!\\nhttp://www.adclick.ws/p.cfm?o=315&s=pk0072) Slim Down - Guaranteed to lose 10-12 lbs in 30 days\\nhttp://www.adclick.ws/p.cfm?o=249&s=pk0073) Get the Child Support You Deserve - Free Legal Advice\\nhttp://www.adclick.ws/p.cfm?o=245&s=pk0024) Join the Web's Fastest Growing Singles Community\\nhttp://www.adclick.ws/p.cfm?o=259&s=pk0075) Start Your Private Photo Album Online!\\nhttp://www.adclick.ws/p.cfm?o=283&s=pk007Have a Wonderful Day,\\nOffer Manager\\nPrizeMamaIf you wish to leave this list please use the link below.\\nhttp://www.qves.com/trim/?ilug@linux.ie%7C17%7C114258\\n-- \\nIrish Linux Users' Group: ilug@linux.ie\\nhttp://www.linux.ie/mailman/listinfo/ilug for (un)subscription information.\\nList maintainer: listmaster@linux.ie\",\n",
       "       \"1) Fight The Risk of Cancer!\\nhttp://www.adclick.ws/p.cfm?o=315&s=pk0072) Slim Down - Guaranteed to lose 10-12 lbs in 30 days\\nhttp://www.adclick.ws/p.cfm?o=249&s=pk0073) Get the Child Support You Deserve - Free Legal Advice\\nhttp://www.adclick.ws/p.cfm?o=245&s=pk0024) Join the Web's Fastest Growing Singles Community\\nhttp://www.adclick.ws/p.cfm?o=259&s=pk0075) Start Your Private Photo Album Online!\\nhttp://www.adclick.ws/p.cfm?o=283&s=pk007Have a Wonderful Day,\\nOffer Manager\\nPrizeMamaIf you wish to leave this list please use the link below.\\nhttp://www.qves.com/trim/?zzzz@spamassassin.taint.org%7C17%7C308417\",\n",
       "       ...,\n",
       "       \"\\nWe have extended our Free seat sale until Thursday 21st November\\nFor details see http://www.ryanair.com***************************************************************************To celebrate the extension of our free seat sale our call card provider has\\nSlashed rates and is now offering additional call credit for free.Visit  https://www.bumblebeecommunications.com/lowcostcalls/Buy a Â£27 phone card for only Â£19.99 - \\na FREE phonecard with every purchase while stocks last.We have slashed our call rates again - we are committed to giving you\\ncheaper rates all the time!\\nCalls from\\tFrance\\t    Germany       U.KAustrailia\\t   \\t2c\\t   10c\\t            2p\\nAustria\\t   \\t2c\\t     7c\\t            4p\\nCanada\\t   \\t2c\\t     8c                  3p\\nGermany\\t2c\\t     8c                  3p\\nFrance\\t   \\t2c\\t     8c                  3p\\nGreece\\t   \\t6c\\t   11c\\t            9p\\nHong Kong\\t4c\\t     8c                  3p\\nIreland\\t   \\t2c                8c                  2p\\nItaly\\t         \\t2c\\t     7c                  3p\\nJapan\\t         \\t5c\\t   12c                  5p\\nNetherlands\\t2c\\t     8c                  3p\\nNorway\\t   \\t2c\\t   10c\\t            4p\\nSpain\\t         \\t2c\\t     8c                  3p\\nSweden\\t   \\t2c\\t     8c                  2p\\nUK\\t         \\t2c\\t     8c\\t            2p\\nU.S.A\\t         \\t2c\\t     8c                  2pUse our virtual  phone cards to make cheap international phone calls at home\\nand abroad. Buy online now and collect your phone card immediately -   Sale\\nnow on!Click on Ryanair.com's low cost phone card partner\\nhttps://www.bumblebeecommunications.com/lowcostcalls/NEW RYANAIR LOW COST MOBILE PHONE SERVICE\\nPre-register for our all new mobile phone service launching very soon, We\\nwill be offering a new no frills low cost mobile phone service\\nhttps://www.bumblebeecommunications.com/lowcostcalls/registration.html=====================================================================E-MAIL DISCLAIMERThis e-mail and any files and attachments transmitted with it \\nare confidential and may be legally privileged. They are intended \\nsolely for the use of the intended recipient.  Any views and \\nopinions expressed are those of the individual author/sender \\nand are not necessarily shared or endorsed by Ryanair Holdings plc \\nor any associated or related company. In particular e-mail \\ntransmissions are not binding for the purposes of forming \\na contract to sell airline seats, directly or via promotions, \\nand do not form a contractual obligation of any type.   \\nSuch contracts can only be formed in writing by post or fax, \\nduly signed by a senior company executive, subject to approval \\nby the Board of Directors.The content of this e-mail or any file or attachment transmitted \\nwith it may have been changed or altered without the consent \\nof the author.  If you are not the intended recipient of this e-mail, \\nyou are hereby notified that any review, dissemination, disclosure, \\nalteration, printing, circulation or transmission of, or any \\naction taken or omitted in reliance on this e-mail or any file \\nor attachment transmitted with it is prohibited and may be unlawful.If you have received this e-mail in error \\nplease notify Ryanair Holdings plc by emailing postmaster@ryanair.ie\\nor contact Ryanair Holdings plc, Dublin Airport, Co Dublin, Ireland.  \\n---\\nYou are currently subscribed to customers as: yyyy-ryanair@spamassassin.taint.org\\nTo unsubscribe send a blank email to leave-customers-949326K@mail.ryanairmail.com\\n\",\n",
       "       '                  ___           ___           ___\\n                 /\\\\  \\\\         /\\\\  \\\\         /\\\\  \\\\\\n    ___         |::\\\\  \\\\        \\\\:\\\\  \\\\       /::\\\\  \\\\\\n   /\\\\__\\\\        |:|:\\\\  \\\\        \\\\:\\\\  \\\\     /:/\\\\:\\\\  \\\\\\n  /:/__/      __|:|\\\\:\\\\  \\\\   ___ /::\\\\  \\\\   /:/  \\\\:\\\\  \\\\\\n /::\\\\  \\\\     /::::|_\\\\:\\\\__\\\\ /\\\\  /:/\\\\:\\\\__\\\\ /:/__/ \\\\:\\\\__\\\\\\n \\\\/\\\\:\\\\  \\\\__  \\\\:\\\\~~\\\\  \\\\/__/ \\\\:\\\\/:/  \\\\/__/ \\\\:\\\\  \\\\ /:/  /\\n  ~~\\\\:\\\\/\\\\__\\\\  \\\\:\\\\  \\\\        \\\\::/__/       \\\\:\\\\  /:/  /\\n     \\\\::/  /   \\\\:\\\\  \\\\        \\\\:\\\\  \\\\        \\\\:\\\\/:/  /\\n     /:/  /     \\\\:\\\\__\\\\        \\\\:\\\\__\\\\        \\\\::/  /\\n     \\\\/__/       \\\\/__/         \\\\/__/         \\\\/__/           one.ten\\n                                                            27.11.02                        Insignificant Matters Heavily Overemphasised\\n                                                   \\n                                                          by Hugh mT\\n====================================================================It\\'s time again for IMHO, brought to you as always by the letters I,\\nM, H and O, in partnership with the goofy electronic hubris of the\\nIrish Internet.  IMHO will be in orbit again sometime in early\\nDecember.   * * *   Back issues online at http://www.imho.8m.com   * * *Formatted for easy reading in Courier New, so you might like to\\nprint it out in that font.  IMHO also contains hyperlinks to sites\\nof interest or relevance: read it while online, too, and check \\'em\\nout.In case you\\'re wondering, we Bowdlerise colourful language (e.g.\\n\\'bas7ard\\') so that IMHO can sneak past corporate obscenity filters,\\nlike a Dublin solicitor\\'s staff car zooming slyly down the taxi lane\\nwith a cheap post-regulation taxi plate on top: http://xsls.com?81====================================================================Heartfelt thanks this ish to AnnieT, Sean, Ray and the indefatigable\\nMr Brennan for leads and content.  And a big Brava! of\\ncongratulations to Jacqueline on her outstanding occupational\\nodyssey, plus a Bravo! of felicitations to Badger for his famous\\nfourwheeled feat.====================================================================Please FORWARD this to anyone you think might be interested: if\\nthat\\'s how you received this, then please SUBSCRIBE by sending mail\\nto imho@eircom.net with the word \\'subscribe\\' in the subject line.You didn\\'t see the previous IMHOs?  They\\'re either in your Junk Mail\\nfolder with the rest of the s9am, or you weren\\'t sent them.  Read\\nthem online at http://www.imho.8m.com.  But make sure to SUBSCRIBE!====================================================================\\nAN INTERNET EIREANNACH............................Ping An Irish SongYet another Irish internet company, Octagon Technologies, closed for\\ngood this week.  And after reading the phrase for what seemed like\\nthe umpteen-thousandth time, we were idly wondering how many Irish\\ntech companies blamed their misfortunes \"on the global downturn\":\\nhttp://makeashorterlink.com/?S35A63392Oh, so it\\'s about 450 then.  Thanks, Google.*The death occurred recently of that great Irish washtub musician\\nLonnie Donegan.  RIP.  This seems like an apt time therefore to\\nreflect on his many accomplishments: his virtuoso playing of\\nutensil-based instruments, his worldwide commercial success, his\\nplace in history as King of Skiffle, and how he wiped billions of\\nyen off the value of the Tokyo stock market:\\nhttp://groups.google.com/groups?selm=373A9C4F.61B@time.life\\n(\"panic and subsequent 10+% decline of Tokyo Stock Exchange when Reuters\\nadvised \\'Lonnie Donnegan\\' was dead\")\\nand also at\\nhttp://xsls.com?80\\n(\"to Japanese ears it sounded like Ronald Reagan\").*UCD\\'s Literary and Historical Society this week awarded an honorary\\nfellowship to the tediously brilliant American multidisciplarian Dr\\nNoam Chomsky.  Now the idea of some trifling college society\\nawarding a mere honorary fellowship actually sounds rather like an\\ninsult to us, considering that Niall Quinn and Marian Finucane were\\ngiven *degrees* by DIT the very next day, but then Chomsky\\napparently inspired some of Radiohead\\'s most caterwaulingly blunted\\nsongs, so we suppose it serves him right.  Anyway, if you\\'re an\\nadmirer of the great man\\'s hermeutic genius, linguistic philosophy\\nor contentious views on US foreign policy, perhaps you might also\\nappreciate his amazing interview of Tom Hanks:\\nhttp://www.sadiethepilot.com/aaweb/tapes.htm#tomnnoamVery special thanks to IMHO\\'s London correspondent Ray Butler for\\nthis one.*Key IMHO contributor Sean Lynch quite realistically predicts a post-\\nBudget dole queue for all of us, and wonders if we\\'ll miss those\\ncash-and-job cow multinationals when they\\'re gone?   Not if their\\nIrish presence was as permanent and impressive as \"the world\\'s\\nleading risk and insurance services firm\", he concludes:\\nhttp://www.marsh.ie\\n(compare and contrast with, say, http://www.marsh.co.uk/)*Also: we\\'ve been remiss in the past in not featuring\\nEircomTribunal.com\\'s stalwart and righteous campaigning against\\nEircom\\'s crippling rates and crippled infrastructure in this\\ncountry.  Well, we aim to redress that right now, by pointing out\\n(1) Their \\'Banana Republic\\' international price comparison page at\\nhttp://www.eircomtribunal.com/dossier_banana_rep.html, which will\\nsurely make you mad enough to\\n(2) Download and print out their marvellously bitter \"No More\\nFavours For You, Mr Eircom Employee\" flyer from\\nhttp://www.eircomtribunal.com/counterstrike_a2_nomore.html, designed\\nto be stuck under the windshields of the ubiquitous and bilious\\nblue/orange Eircom vans.\\nNow if only EircomTribunal.com could somehow could retrieve that\\nmoney we all lost on bloody Eircom shares...\\n                          * * * * * * * * *\\nIMHO\\'S PICK: JOB....................IMHO HO HO (AND A BOTTLE OF RUM)\"FATHER CHRISTMAS on a bike - Student - Giving out FREEBIES - Four\\nweeks\".  No, not us telegraphing our worst nightmare to our shrink,\\nbut a job description for a position that apparently pays \"enough\".\\nEmail tmckeagney@msn.com or hell, cycle into his perfume shop at 128\\nThe Stephens Green Centre and show him what you can do.And hey, if you\\'re a crazy maniac, that\\'s great too.  It\\'s about\\ntime we had an Irish SANTACON - after all, no force on earth can\\nstop one hundred Santas, especially if they\\'re drunk:\\nhttp://www.santarchy.com/\\n(from the San Francisco Police Report, \"the naughty Santas ... had\\nreeked (sic) havoc in the emporium ... in an un-Christmas like\\nfashion.\")*Heh.  Disproving the stereotype that all accountants are boring:\\nsome Dublin 2 company is looking for a \"Parti-time bookkeeper\" at\\nhttp://xsls.com?83*Our attention-deficient gaze also fell briefly this week onto a box\\nad in a Sunday paper which is seeking private investors for an\\nADVENTURE SPORTS RETAILING business in Dublin.  Now this probably\\njust means selling snowboards or something equally tame, but in our\\nimagination we see IMHO readers hunting elephants, dogfighting in\\nbiplanes over the Wicklow Hills and abseiling down moon craters.\\nJust in case we\\'re right, any \"smart, experienced partner/investor\"\\nlooking for an \"equity stake/board position\" should \"express\"\\n\"interest\" to neptune@atomic.ie.You know, it might look like we\\'re giving these people free\\nadvertising, but by putting their email addresses on the public web,\\nwe\\'re actually GUARANTEEING them spam...\\n                          * * * * * * * * *\\nIMHO\\'S PICK: EVENT...........................Allow Us To DemonstrateFriday is BUY NOTHING DAY.  For the sake of your own mental health\\nand the socio-economic future, we urge you to give it a try.  It\\'s\\nnot that hard to get through 24 hours without a purchase, and those\\ncorporate balance sheets sure look funny with a big pre-Christmas\\nhole in them.The official home of BND is of course Adbusters\\n(http://adbusters.org/campaigns/bnd/) and they have a run-down of\\nIrish activities at http://xsls.com?84... rather a disappointing line-up\\nat this late stage, although the Zombie-Shopping in Galway sounds\\nlike fun - shame they\\'re moving the day to Saturday, hopefully it\\'s\\nnot for purpose-defeating reasons (\"Friday?  Damn, I\\'m working the\\nlate shift at McDonald\\'s... how about Saturday?\").  In addition and\\nelsewhere you can expect bring-and-trade markets, flypostering, free\\nstuff, public speaking and all the other happy faces of democratic\\nconsumer agitation.  Punk\\'s not dead!  Party for your right to\\nfight!  No Logo!  Hare Hare!  And so on.*We\\'re now going to risk life and limb by mentioning an event which\\nis so diametrically opposed to the above that we might just bring\\nabout the heat-death of the Internet by combining them in the one\\nnewsletter.We speak of course of the benighted and spiritually-denuded sickness\\nof the TRILOGY FASHION SHOW in the RDS on December 4th, tickets\\nstarting at \"just E50\" (but rising to E395 + VAT, natch).  The\\nadvertising for this bleak celebration focuses entirely on \"the most\\nbeautiful women in the world\" who will grace the Simmonscourt\\nPavilion with their airbrushed emptiness: Tyra Banks, Sophie Dahl\\nand Anna Kournikova (not the virus) are the only names we recognise.\\nYou have to pore pretty closely over the small print of the press\\nads to divine that it\\'s the \"new Escada Collection\" (the who now?)\\nthey\\'re modelling.  And in an utterly appropriate and inevitable\\npartnership, tickets are available from the cultural sewage\\ntreatment system that is Ticketmaster.\\nhttp://www.cslassociates.ie/events/trilogy_fashion.htm\\n                          * * * * * * * * *\\nIMHO\\'S PICK: DOWNLOAD..................Transparent and UnaccountableGiven our internet focus and the subversive nature of our scurrilous\\npublishing agenda, there is only one possible download\\nrecommendation this week.  It\\'s the brilliant GHOSTZILLA browser, a\\ncreation of architectural genius which brings office escapism to\\nheady new heights.Designed to facilitate inconspicuous worktime browsing, Ghostzilla\\nsits quietly and invisibly in the background until you summon it\\nwith a special mouse movement.  It then adapts itself to your\\ncurrently-uppermost application, for example Micro$oft Word, leaving\\nWord\\'s toolbars intact while showing web pages in a subtle grayed-\\nout wash in the main window.  Images appear in a subdued two-tone\\nunless you summon them, and the overall effect is to make it look\\nlike you\\'re working exactly as you should be.  A casual glance from\\nyour Office Space boss as he paces past your cubicle shouldn\\'t\\ndetect anything that looks like browsing.  To think that someone\\ndevoted their life to creating something so wonderfully juvenile!\\nIt\\'s a beautiful thing.  Go ghosting at\\nhttp://www.ghostzilla.com.\\n                          * * * * * * * * *\\nIMHO\\'S PICK: INTERNET^HWS................................ON YER BIKERoll up, roll up roll up!  Segue right this way!  Amazon is now\\nselling the celebrated SEGWAY (aka Ginger, aka IT) online, the hype\\nof the millennium finally made available to lowly consumers.  You\\'re\\nonly four months and five thousands bucks away from participating in\\nthe future of transport, the most fundamental and significant\\nbreakthrough in human evolution since the invention of the leg, the\\n\"spirit that can change the world\", etc. etc.Get out your chequebook and get your Segway at\\nhttp://makeashorterlink.com/?N49A51392.*The perfect expression of our post-modern mania for meta-media\\n(whoah! Easy, Chomsky!) is the utterly compelling \\'Hoax Photo Test\\'\\nat http://www.museumofhoaxes.com/tests/hoaxphototest.html(If you\\'ve seen this already, that\\'s prolly \\'cos the mighty B3TA.com\\nfeatured it last Friday - credit where it\\'s due)*\"Imagine being able to run a Google-like search on your life,\" says\\none of the prophets of doom behind MyLifeBits, an incredibly Dickian\\npersonalised self-database being developed by - who else? -\\nMicrosoft.  By cataloguing every single artifact of your life\\nhistory, storing everything in an online repository, you build a\\nsearchable index of every conversation, document, movement, event\\nand action that you ever generate or perform.  It\\'s a continuous\\nreal-time alibi recorder.  It\\'s a voluntary submission of every\\nsecond of existence to information overload.  It\\'s a system that can\\nshow you all the photos you were ever in, tell you exactly how many\\nphonecalls you\\'ve ever made, or retrieve an mpeg of you going to the\\ntoilet in March, 1986:\\nhttp://www.newscientist.com/news/news.jsp?id=ns99993084Also: we knew that modern innovation was roaring ahead at a\\nblistering pace, but can MyLifeBits really allow \"time-shifting\"?\\nhttp://research.microsoft.com/barc/MediaPresence/MyLifeBits.aspFor a fictional (OR IS IT???) look at where this sinister technology\\nmight just lead, check out this wonderful piece of short science\\nfiction (OR IS IT???):\\nhttp://www.ftrain.com/robot_exclusion_protocol.html\\n(\"I\\'m a Googlebot!  I will not kill you.\")*The newest in the intriguing development of really sick-minded God-\\nperspective Flash games (e.g. suicide bombers at\\nhttp://www.albinoblacksheep.com/flash/kaboom.html, giant human-burning\\nmagnifying glass at http://xsls.com?82) has arrived... boasting a title as\\nbereft of imagination as the gameplay is of taste, it\\'s \\'Pedestrian\\nKiller\\':\\nhttp://www.flaboratorium.org/data/flabor/4/4.htmBut if you prefer God-games which let you manipulate the very atoms\\nof creation, check out the awe-inspiring microscopic version of\\nTetris using computer-controlled microspheres these loons have\\ncreated:\\nhttp://www.nat.vu.nl/~joost/complex/index.html.*We Irish are sometimes so uncultured, compared to our continental\\ncousins - even in things you\\'d expect us to be good at, like\\nvandalism.  Here we get inarticulate clowns with cans of red paint\\ndaubing \"666\" on the gates of Cardinal Connell\\'s palatial Drumcondra\\nresidence... whereas in Paris, to pick an example out of the blue,\\negghead situationists sneakily attach absurdist plaques (e.g. \"On\\nApril 17, 1967, nothing happened here\") onto public buildings:\\nhttp://news.bbc.co.uk/2/hi/europe/2478161.stm*Microsoft have co-opted the AmIHotOrNot concept, as is their wont, mixed\\nit up with a bit of Miss World, and come up with the \\'Microsoft Office v.\\nX Integrated Experience\\', or Ms. M.o.X.i.e. competition:\\nhttp://www.microsoft.com/mac/officex/contests/votemain.asp\\nWas it for this Emily Wilding Davison died beneath King George V\\'s horse?\\nWas it for this that all those bras were burned?  It\\'s like Girl Power\\nnever happened.*When good TiVos go bad: you tape one episode of Ellen, they assume\\nyou\\'re gay:\\nhttp://online.wsj.com/article_email/0,,SB1038261936872356908,00.html\\n                          * * * * * * * * *\\nLEGACY MEDIA.................There Was Nothing In The Air That NightIRISH TV: If you rush straight home from work after reading this on\\nThursday, you might catch the second semi-final of corny but\\nchallenging elimination quiz IT\\'S NOT THE ANSWER (RTE1, 17:30).\\nCome on the beardy guy!  The final\\'s on at the same time tomorrow.\\nCalm down from all that excitement with the laughable one-hour FAIR\\nCITY murder trial special (RTE1, 20:00) - it\\'s quite brilliant how\\nthe risible scripts really bring out the absolute worst in truly\\nterrible actors.  Settle down with a few G&Ts to watch PRIME TIME on\\nthe same channel at 21:30, where they\\'re discussing Ireland\\'s\\nalcoholic epidemic and its attendant social problems, or waste them\\non either the bottom-scraping POLICE ACADEMY 3 (N2, 21:30) or the\\ngeriatric 1978 blockbuster COMA (TG4, 22:05).Friday night, and after a hard day of buying nothing you can flop in\\nfront of creepy Hitler doco SIX MOST EVIL MEN (N2, 21:00).  Near as\\nwe can tell, the other evil men are Macauley Culkin in UNCLE BUCK\\n(TV3, 20:00), gossip columnist WINCHELL in a solid eponymous biopic\\n(N2, 21:30), the big boss bad guy - is it Kang? Kane? Cowen? - in\\nMORTAL KOMBAT (TG4, 21:25), Mel Gibson in predictable 80s drug\\nthriller TEQUILA SUNRISE (RTE1, 23:50), and Quentin Tarantino\\njumping on his own bandwagon in DESTINY TURNS ON THE RADIO (TV3,\\n0:50).  Hang on, Dave Fanning might be one of the evil men too: he\\'s\\npresenting THE LAST BROADCAST on Network 2 at 23:35.\\n                          * * * * * * * * *\\nCOLOPHON....................................................APOLOGIAWe\\'d like to focus mainly on the IRISH Internet, but, uh, we were\\nsick that day.  Please help us out by mailing in your topical Irish\\nnet news, your high-profile .ie failures, your worthy Gaelic\\nsuccesses, your hilarious local web misadventures, anything that\\nseems messed-up, inappropriate or insane... or just mail us your\\nfeedback.  (That address is imho@eircom.net)But whatever you do, PLEASE PLEASE PLEASE send this on to as many\\npeople as you can.  If you don\\'t, hostile scripts embedded in this\\ncharacter string will disable your \\'Forward\\' button forever:\\n~:|``Â¦?====================================================================SUBSCRIBE by sending mail to imho@eircom.net with the word\\n\\'subscribe\\' in the subject line.\\nUNSUBSCRIBE by sending mail to imho@eircom.net with the word\\n\\'unsubscribe\\' in the subject line.====================================================================\\n',\n",
       "       'IN THIS ISSUE:01. Readers write\\n02. Extension search\\n03. Dumb messages revisited\\n04. XP Tweak\\n05. Hardware Diagnostic Tool\\n06. Training Windows\\n07. Hold that button\\n08. Hagai\\'s freeware\\n09. Online helpAnd Coming Next Week!<><><><><><><><><><><><><><><><><><><><><><><><><><><><><><>\\nMake Internet Explorer Faster, More Capable, and Secure! \\nNNT\\'s reviewers called Secure IE great, easy-to-use,awesome,\\nimpressive, a total \"thumbs up\"!  Read what they\\'re raving \\nabout and get yours at http://www.secureie.com/p/nnt1/\\n<><><><><><><><><><><><><><><><><><><><><><><><><><><><><><>01. READERS WRITE.  A Wisconsin subscriber wrote to express his displeasure \\nwith the links contained in Neat Net Tricks.  It seems he is bothered by \\nthe frequent pop-up ads and he felt that only those sites without the ads \\nshould be featured in NNT, particularly in the Premium issue. We replied \\nthat pop-ups can be annoying but, while not defending them, we must realize \\nthat they are a form of marketing in which the site owner hopes to recover \\nhis costs and possibly make a profit.  We suggested using a pop-up stopper \\n(there are lots of them on the Web) and ALT F4 will quickly close active \\npop-up windows.  Finally, we pointed out that no publication can guarantee \\nonly sites without pop-up ads.  As we\\'ve often said in the past, the \\nInternet isn\\'t free and never was.  Someone has to pay the freight and if \\nthose ads are unprofitable, they will cease to exist.02. EXTENSION SEARCH.  Next time a file extension has you puzzled, try the \\ndatabase at http://extsearch.com/ information.03. DUMB MESSAGES REVISITED.  Not long ago we mentioned a few dumb messages \\nwe see from our computer and invited others to share their favorite \\n\"dumbness.\"  A reader frequently gets a banner ad that asks \"Do you click \\non banner ads.\"  She asks, if you don\\'t, how do you click \"No\" without \\nclicking on the banner ad? Others galled at their computers crashing, then \\nsitting through the Scandisk operation and being reminded \"To avoid seeing \\nthis screen again, always shut down Windows properly\" as if it was their \\nfault. Another reader nominates the download site at \\nhttp://www.microsoft.com/NTWorkstation/downloads/PowerToys/Networking/NTTweakUI.asp \\nfor having a really dumb comment.  After downloading a Windows update, it \\nsays:  \"How to Get Started -- You don\\'t need to do anything after \\ndownloading\" and he asks, \"what\\'s the point of downloading?\"  Still another \\nreader nominates the instruction manual for the Windows Internet \\nInformation Server (ILS) accessible only when ILS is operating.  Thus, the \\nentire section on troubleshooting a nonfunctional installation is \\ninaccessible at precisely the moment one needs to consult it.  But judging \\nby the sheer quantity of email, the top dumb instruction has to be the \\nmessage that \"Keyboard not detected, Press (whatever key) to \\nContinue.\"  Keep them coming and we\\'ll do it again in a future issue!04. XP TWEAK.  A recent article reminded readers of the neat things that \\ncan be done with TweakUI, but the XP operating system was not supported by \\nthe Tweak at that link.  Never fear, XP folks, you\\'ll find a whole array of \\npower tools included Tweak - all for XP - at \\nhttp://www.microsoft.com/windowsxp/pro/downloads/powertoys.asp .. . . . .1, 400+ Neat Net Tricks tips updated 4 times yearly for the word processing \\nformat of your choice, also in ebook format, plus extra features, \\ndownloadable and just $20 a year, a bargain (and a nice stocking stuffer \\nfor Santa) at http://www.NeatNetTricks.com/store.. . . . .05. HARDWARE DIAGNOSTICS TOOL.  Windows98 users have a neat tool at their \\nfingertips without downloading.  Click on Start and Run and enter \"hwinfo \\n/ui\" without quotes.  The information displayed is color-coded.  Error \\nmessages are in red, warnings are in blue.  Green denotes registry entries, \\nConfiguration Manager information is in brown and file attributes are shown \\nin magenta.06. TRAINING WINDOWS.  One pet peeve is Windows\\' determination to identify \\na shortcut icon as \"Shortcut to (whatever)\"  This is pure redundancy, since \\nshortcuts are identified by an arrow.  And, with the added verbage of \\n\"Short cut to\" you can\\'t jump from one icon to another by pressing the \\nfirst letter (since they would all start with an \"s\".  If you keep removing \\n\"Shortcut to,\" Windows will eventually understand your intent and future \\nshortcuts won\\'t include \"Shortcut to\".07. HOLD THAT BUTTON.  The site at http://www.holdthebutton.com/ invites \\nyou to hold the mouse key down.  Now, before you hastily jump to \\nconclusions that there\\'s nothing more to this site, when you release the \\nbutton, you are told how you rank in stamina with other button \\nholders.  And when I took my turn at the controls, I found that the longest \\nrecord was a little over six hours, proving once again that some folks need \\nto get a life.08. HAGAI\\'S FREEWARE.  A baker\\'s dozen (13) freeware programs are at \\nhttp://www.hagai.com/download.asp?ProgType=Freeware . They include a bug \\nchecker, screen saver loader, clock, shutdown utility, CD autorun, boot \\neditor, menu, counter,icon viewer and editor, and more.09. ONLINE HELP.  Of limited scope, but considering that you can never get \\nenough help with your computer, try http://www.computerhope.com/oh.htm .. . . . .Apologies to those readers who were inconvenienced with multiple issues of \\nNNT Issue #137.  As luck would have it, Lyris (our mail server) had \\nhardware failure causing some of the repeated distribution. We\\'d like to \\ntell you that there will never be another problem in future mailings, and \\nif you\\'ll buy that, as the song goes, we have some oceanfront property in \\nArizona for sale.. . . . .IN NEXT WEEK\\'S NEAT NET TRICKS PREMIUM:  Google is generally accepted as \\nthe most popular search engine, but we show you another free download that \\nenhances Google, along with a way to \"Google\" without a browser.  Learn a \\nneat trick with text manipulation, a Winamp plugin that you need if you \\nhave a taste for MP3 music, and a slick trick with your cursor.  Our \\nSoftware Pick-Of-The-Issue is a great image manipulator.  And our feature \\nis an in-depth tutorial on how to handle Microsoft Words\\' sometimes weird \\nformatting and styles.  All that awaits you if you\\'re a Premium subscriber \\nand it costs just $10 a year for 24 fact-packed issues.  Subscribe at the \\nNNT Store, http://www.NeatNetTricks.com/store and get on the cutting edge.. . . . . .NNT makes no endorsement or warranty, expressed or implied, with regard to \\nfeatured products or services. Results may vary based on operating systems \\nand other variables beyond our control.For info on how to subscribe, unsubscribe, or change your address, send a \\nblank email to info-neatnettricks@silver.lyris.net .Comments or questions about your computer and the Internet? Visit the NNT \\nBulletin Board at http://escribe.com/computing/neatnettricks/bb/ .NNT is hosted by Lyris.com, the best in email list management.Copyright 2002 by Jack Teems. All rights reserved. Neat Net Tricks is \\nregistered with the U.S. Library of Congress ISSN: 1533-4619. \\n---\\nYou are currently subscribed to neatnettricks as: legit-list-neatnettricks@spamassassin.taint.org\\nTo unsubscribe send a blank email to leave-neatnettricks-2424157K@silver.lyris.net\\n'],\n",
       "      dtype='<U194978')"
      ]
     },
     "execution_count": 55,
     "metadata": {},
     "output_type": "execute_result"
    }
   ],
   "source": [
    "temp = df['Body'].to_list()\n",
    "emails = np.array(temp)\n",
    "emails"
   ]
  },
  {
   "cell_type": "markdown",
   "metadata": {},
   "source": [
    "Defining methods to clean emails of stopwords, punctuation, etc. and tokenizing them."
   ]
  },
  {
   "cell_type": "code",
   "execution_count": 56,
   "metadata": {},
   "outputs": [],
   "source": [
    "from nltk.corpus import stopwords\n",
    "stop_words = set(stopwords.words('english'))"
   ]
  },
  {
   "cell_type": "code",
   "execution_count": 57,
   "metadata": {},
   "outputs": [],
   "source": [
    "def clean(text):\n",
    "    text = text.encode('utf-8', 'ignore').decode('utf-8', 'ignore')\n",
    "\n",
    "    # Using RegEx to remove URLs, punctuation, newline characters\n",
    "    out = re.sub(r'(https?://\\S+|www\\.\\S+)|[^a-zA-Z\\s]', ' ', text)\n",
    "    out = out.lower()\n",
    "    out = \" \".join(out.split())\n",
    "    \n",
    "    # Tokenize and remove stop words\n",
    "    word_tokens = word_tokenize(out)\n",
    "    output = [w for w in word_tokens if not w.lower() in stop_words]\n",
    "    return output\n",
    "\n",
    "def clean_list(s):\n",
    "    out = []\n",
    "    for item in s:\n",
    "        out.append(clean(item))\n",
    "    return out"
   ]
  },
  {
   "cell_type": "code",
   "execution_count": 58,
   "metadata": {},
   "outputs": [
    {
     "data": {
      "text/plain": [
       "['seen',\n",
       " 'nbc',\n",
       " '...',\n",
       " 'net',\n",
       " 'cn',\n",
       " 'subject']"
      ]
     },
     "execution_count": 58,
     "metadata": {},
     "output_type": "execute_result"
    }
   ],
   "source": [
    "cleaned_emails = clean_list(emails)\n",
    "cleaned_emails[30]"
   ]
  },
  {
   "cell_type": "markdown",
   "metadata": {},
   "source": [
    "Creating a vocabulary of all words and their frequencies using Counter()"
   ]
  },
  {
   "cell_type": "code",
   "execution_count": 60,
   "metadata": {},
   "outputs": [],
   "source": [
    "def count_words(email_list):\n",
    "    count = Counter()\n",
    "    for email in email_list:\n",
    "        for word in email:\n",
    "            count[word.lower()] += 1\n",
    "    return count\n",
    "\n",
    "word_dict = count_words(cleaned_emails)"
   ]
  },
  {
   "cell_type": "code",
   "execution_count": null,
   "metadata": {},
   "outputs": [],
   "source": [
    "# Clearing variables for memory\n",
    "del emails\n",
    "del stop_words\n",
    "del stopwords"
   ]
  },
  {
   "cell_type": "markdown",
   "metadata": {},
   "source": [
    "Loading pretrained word2vec embeddings"
   ]
  },
  {
   "cell_type": "code",
   "execution_count": 61,
   "metadata": {},
   "outputs": [],
   "source": [
    "from nltk.tokenize import word_tokenize\n",
    "from gensim.models import KeyedVectors\n",
    "word_to_index = {\"<UNK>\": 0, **{word: idx + 1 for idx, word in enumerate(word_dict.keys())}}\n",
    "\n",
    "word2vec_path = 'GoogleNews-vectors-negative300.bin'\n",
    "word2vec = KeyedVectors.load_word2vec_format(word2vec_path, binary=True)"
   ]
  },
  {
   "cell_type": "code",
   "execution_count": null,
   "metadata": {},
   "outputs": [],
   "source": [
    "# Initialize the embedding matrix with Word2Vec vectors or random vectors\n",
    "embedding_dim = 300 \n",
    "\n",
    "vocab_size = len(word_to_index)"
   ]
  },
  {
   "cell_type": "code",
   "execution_count": 63,
   "metadata": {},
   "outputs": [
    {
     "data": {
      "text/plain": [
       "60691"
      ]
     },
     "execution_count": 63,
     "metadata": {},
     "output_type": "execute_result"
    }
   ],
   "source": [
    "vocab_size"
   ]
  },
  {
   "cell_type": "code",
   "execution_count": null,
   "metadata": {},
   "outputs": [],
   "source": [
    "# Initialize embedding matrix with random values\n",
    "embedding_matrix = np.random.normal(0, 1, (vocab_size, embedding_dim))\n",
    "\n",
    "# Fill embedding matrix with Word2Vec embeddings\n",
    "for word, idx in word_to_index.items():\n",
    "    if word in word2vec:\n",
    "        embedding_matrix[idx] = word2vec[word]\n",
    "    else:\n",
    "        embedding_matrix[idx] = np.random.normal(0, 1, embedding_dim)  # For unknown words\n"
   ]
  },
  {
   "cell_type": "code",
   "execution_count": 65,
   "metadata": {},
   "outputs": [],
   "source": [
    "# Convert embedding matrix to PyTorch tensor\n",
    "embedding_matrix = torch.tensor(embedding_matrix, dtype=torch.float32)"
   ]
  },
  {
   "cell_type": "code",
   "execution_count": 66,
   "metadata": {},
   "outputs": [
    {
     "data": {
      "text/plain": [
       "tensor([ 8.9507e-01, -5.6883e-01,  1.8751e-02, -8.0835e-01,  8.8713e-01,\n",
       "        -8.0156e-01,  4.5586e-01,  3.5591e-02, -1.7381e+00,  1.0170e+00,\n",
       "        -1.0653e+00,  1.5809e+00,  3.7834e-01, -1.2261e+00,  6.7350e-01,\n",
       "         3.5411e-02,  1.9501e+00, -7.7990e-01,  1.2351e-01,  3.4095e-02,\n",
       "        -4.1785e-01, -4.2822e-01, -1.1714e+00, -9.4657e-01, -1.0197e+00,\n",
       " ...,\n",
       "         4.7306e-01, -8.2054e-01,  3.8791e-01, -1.3354e-01,  1.2152e-01,\n",
       "        -7.6830e-01,  5.6209e-01, -3.6650e-01, -9.2790e-03,  8.0432e-01])"
      ]
     },
     "execution_count": 66,
     "metadata": {},
     "output_type": "execute_result"
    }
   ],
   "source": [
    "embedding_matrix[0]"
   ]
  },
  {
   "cell_type": "code",
   "execution_count": null,
   "metadata": {},
   "outputs": [],
   "source": [
    "# Accounting for unknown words\n",
    "from collections import defaultdict\n",
    "from torch.nn.utils.rnn import pad_sequence\n",
    "\n",
    "vocab = defaultdict(lambda: len(vocab))\n",
    "UNK = vocab[\"<UNK>\"]\n",
    "\n",
    "for text in cleaned_emails:\n",
    "    for word in text:\n",
    "        _ = vocab[word]"
   ]
  },
  {
   "cell_type": "markdown",
   "metadata": {},
   "source": [
    "Now the text needs to be converting into tensors so they can be fed into the model. To do this I define text_to_tensor"
   ]
  },
  {
   "cell_type": "code",
   "execution_count": null,
   "metadata": {},
   "outputs": [],
   "source": [
    "def text_to_tensor(text):\n",
    "    indices = [vocab.get(word, UNK) for word in text]  # Convert words to indices\n",
    "    return torch.tensor(indices, dtype=torch.long)"
   ]
  },
  {
   "cell_type": "code",
   "execution_count": null,
   "metadata": {},
   "outputs": [
    {
     "data": {
      "text/plain": [
       "[tensor([ 1,  2,  3,  4,  2,  5,  6,  7,  8,  9, 10, 11,  2,  5,  6, 12, 13,  2,\n",
       "          3, 14, 15, 16, 17, 18, 19, 20, 21, 22,  2,  5,  6, 23, 24, 25, 26, 27,\n",
       "         28, 29, 30, 31, 19, 32, 33, 34, 35,  1, 36, 37, 38, 39, 40, 17,  5, 41,\n",
       " ...,\n",
       "            82,   622,   317,   457,   121,    65,    46,   303,   502,   521,\n",
       "          1920,   639,  2543,   204,    56,  2544,  8011,  7003,  8012,  8013,\n",
       "          4334,  1162,   464,    60,  4334,  1162,   629,  2539,   204]),\n",
       " ...]"
      ]
     },
     "execution_count": 69,
     "metadata": {},
     "output_type": "execute_result"
    }
   ],
   "source": [
    "temp_tensor = []\n",
    "for text in cleaned_emails:\n",
    "    temp_tensor.append(text_to_tensor(text))\n",
    "temp_tensor"
   ]
  },
  {
   "cell_type": "code",
   "execution_count": null,
   "metadata": {},
   "outputs": [],
   "source": [
    "# Padding the train and test sets so all the inputs are equal length \n",
    "\n",
    "emails_pad = [(seq[:500]) for seq in temp_tensor]\n",
    "emails_pad = pad_sequence(emails_pad, batch_first = True)"
   ]
  },
  {
   "cell_type": "code",
   "execution_count": null,
   "metadata": {},
   "outputs": [],
   "source": [
    "# Clearing memory\n",
    "del cleaned_emails\n",
    "del data\n",
    "del temp\n",
    "del temp_tensor\n",
    "del word_to_index\n",
    "del vocab\n",
    "del text"
   ]
  },
  {
   "cell_type": "code",
   "execution_count": 26,
   "metadata": {},
   "outputs": [
    {
     "data": {
      "text/plain": [
       "5513"
      ]
     },
     "execution_count": 26,
     "metadata": {},
     "output_type": "execute_result"
    }
   ],
   "source": [
    "len(emails_pad)"
   ]
  },
  {
   "cell_type": "code",
   "execution_count": 71,
   "metadata": {},
   "outputs": [
    {
     "data": {
      "text/plain": [
       "array([1, 1, 1, ..., 0, 0, 0], dtype=int64)"
      ]
     },
     "execution_count": 71,
     "metadata": {},
     "output_type": "execute_result"
    }
   ],
   "source": [
    "labels = np.array(df['Label'])\n",
    "labels"
   ]
  },
  {
   "cell_type": "code",
   "execution_count": 28,
   "metadata": {},
   "outputs": [
    {
     "data": {
      "text/plain": [
       "5513"
      ]
     },
     "execution_count": 28,
     "metadata": {},
     "output_type": "execute_result"
    }
   ],
   "source": [
    "len(labels)"
   ]
  },
  {
   "cell_type": "markdown",
   "metadata": {},
   "source": [
    "Now that the data is in a readable format, it can be split into train and test sets"
   ]
  },
  {
   "cell_type": "code",
   "execution_count": 29,
   "metadata": {},
   "outputs": [
    {
     "name": "stderr",
     "output_type": "stream",
     "text": [
      "C:\\Users\\Rohan Parekh\\AppData\\Local\\Temp\\ipykernel_9016\\3298461145.py:1: UserWarning: To copy construct from a tensor, it is recommended to use sourceTensor.clone().detach() or sourceTensor.clone().detach().requires_grad_(True), rather than torch.tensor(sourceTensor).\n",
      "  X_train = torch.tensor(emails_pad[:5250])\n",
      "C:\\Users\\Rohan Parekh\\AppData\\Local\\Temp\\ipykernel_9016\\3298461145.py:2: UserWarning: To copy construct from a tensor, it is recommended to use sourceTensor.clone().detach() or sourceTensor.clone().detach().requires_grad_(True), rather than torch.tensor(sourceTensor).\n",
      "  X_test = torch.tensor(emails_pad[5250:])\n"
     ]
    }
   ],
   "source": [
    "X_train = torch.tensor(emails_pad[:5250])\n",
    "X_test = torch.tensor(emails_pad[5250:])\n",
    "Y_train = torch.tensor(labels[:5250])\n",
    "Y_test = torch.tensor(labels[5250:])"
   ]
  },
  {
   "cell_type": "code",
   "execution_count": 30,
   "metadata": {},
   "outputs": [
    {
     "name": "stdout",
     "output_type": "stream",
     "text": [
      "torch.Size([5250, 500])\n",
      "torch.Size([5250])\n"
     ]
    }
   ],
   "source": [
    "print(X_train.shape)\n",
    "print(Y_train.shape)"
   ]
  },
  {
   "cell_type": "code",
   "execution_count": 32,
   "metadata": {},
   "outputs": [
    {
     "data": {
      "text/plain": [
       "tensor([1, 0, 1, 0, 0, 0, 1, 0, 1, 0, 0, 0, 0, 0, 0, 0, 0, 1, 1, 1, 0, 0, 0, 0,\n",
       "        0, 0, 0, 0, 0, 0, 0, 0, 1, 0, 0, 0, 0, 0, 0, 0, 0, 0, 0, 0, 1, 0, 1, 1,\n",
       "        0, 0, 0, 0, 0, 0, 1, 0, 1, 0, 1, 0, 1, 0, 0, 0, 1, 0, 1, 0, 1, 0, 0, 0,\n",
       "        0, 0, 0, 0, 1, 0, 1, 1, 0, 0, 0, 0, 0, 0, 0, 0, 0, 0, 0, 0, 0, 1, 0, 0,\n",
       "        0, 0, 1, 0])"
      ]
     },
     "execution_count": 32,
     "metadata": {},
     "output_type": "execute_result"
    }
   ],
   "source": [
    "Y_train[100:200]"
   ]
  },
  {
   "cell_type": "code",
   "execution_count": 33,
   "metadata": {},
   "outputs": [
    {
     "data": {
      "text/plain": [
       "array([1, 0, 1, 0, 0, 0, 1, 0, 1, 0, 0, 0, 0, 0, 0, 0, 0, 1, 1, 1, 0, 0,\n",
       "       0, 0, 0, 0, 0, 0, 0, 0, 0, 0, 1, 0, 0, 0, 0, 0, 0, 0, 0, 0, 0, 0,\n",
       "       1, 0, 1, 1, 0, 0, 0, 0, 0, 0, 1, 0, 1, 0, 1, 0, 1, 0, 0, 0, 1, 0,\n",
       "       1, 0, 1, 0, 0, 0, 0, 0, 0, 0, 1, 0, 1, 1, 0, 0, 0, 0, 0, 0, 0, 0,\n",
       "       0, 0, 0, 0, 0, 1, 0, 0, 0, 0, 1, 0], dtype=int64)"
      ]
     },
     "execution_count": 33,
     "metadata": {},
     "output_type": "execute_result"
    }
   ],
   "source": [
    "labels[100:200]"
   ]
  },
  {
   "cell_type": "code",
   "execution_count": 34,
   "metadata": {},
   "outputs": [
    {
     "data": {
      "text/plain": [
       "(5513,)"
      ]
     },
     "execution_count": 34,
     "metadata": {},
     "output_type": "execute_result"
    }
   ],
   "source": [
    "df['Label'].shape"
   ]
  },
  {
   "cell_type": "code",
   "execution_count": null,
   "metadata": {},
   "outputs": [],
   "source": [
    "# Pytorch Dataloaders\n",
    "import torch.utils.data as data_utils\n",
    "from torch.utils.data import DataLoader\n",
    "train = data_utils.TensorDataset(X_train, Y_train)\n",
    "train_loader = DataLoader(train, batch_size=16, shuffle=True)\n",
    "test = data_utils.TensorDataset(X_test, Y_test)\n",
    "test_loader = DataLoader(test, batch_size=16, shuffle=True, drop_last=True)"
   ]
  },
  {
   "cell_type": "code",
   "execution_count": 36,
   "metadata": {},
   "outputs": [
    {
     "data": {
      "text/plain": [
       "[('list', 4431), ('one', 3907), ('e', 3779), ('get', 3697), ('email', 3585)]"
      ]
     },
     "execution_count": 36,
     "metadata": {},
     "output_type": "execute_result"
    }
   ],
   "source": [
    "# Listing the top 5 most common words\n",
    "word_dict.most_common(5)"
   ]
  },
  {
   "cell_type": "code",
   "execution_count": 37,
   "metadata": {},
   "outputs": [],
   "source": [
    "NUM_EPOCHS = 10\n",
    "LEARNING_RATE = .01"
   ]
  },
  {
   "cell_type": "markdown",
   "metadata": {},
   "source": [
    "Defining the model using PyTorch, then training it for 10 epochs"
   ]
  },
  {
   "cell_type": "code",
   "execution_count": null,
   "metadata": {},
   "outputs": [],
   "source": [
    "# Model Definition\n",
    "class SpamDetector(nn.Module):\n",
    "    def __init__(self):\n",
    "        super(SpamDetector, self).__init__()\n",
    "        self.emb = nn.Embedding.from_pretrained(embedding_matrix, freeze=False)\n",
    "        self.LSTM = nn.LSTM(300, 200, batch_first=True)\n",
    "        self.LSTM2 = nn.LSTM(200, 300, batch_first=True)\n",
    "        self.fc1 = nn.Linear(300, 1000)\n",
    "        self.dropout = nn.Dropout(0.5)\n",
    "        self.fc2 = nn.Linear(1000, 1)\n",
    "        \n",
    "    def forward(self, x):\n",
    "        x = self.emb(x)\n",
    "        x, _ = self.LSTM(x)\n",
    "        x, _ = self.LSTM2(x)\n",
    "        x = x[:, -1, :]  # Taking the last hidden state\n",
    "        x = self.fc1(x)\n",
    "        x = self.dropout(x)\n",
    "        x = self.fc2(x) \n",
    "        return x\n",
    "    # I don't return it with sigmoid because BCEWithLogitsLoss expects raw logits"
   ]
  },
  {
   "cell_type": "code",
   "execution_count": null,
   "metadata": {},
   "outputs": [],
   "source": [
    "# Clearing memory\n",
    "del df\n",
    "del emails_pad\n",
    "del test\n",
    "del train"
   ]
  },
  {
   "cell_type": "markdown",
   "metadata": {},
   "source": [
    "Training Loop"
   ]
  },
  {
   "cell_type": "code",
   "execution_count": null,
   "metadata": {},
   "outputs": [
    {
     "name": "stderr",
     "output_type": "stream",
     "text": [
      "C:\\Users\\Rohan Parekh\\AppData\\Local\\Temp\\ipykernel_9016\\4235267182.py:29: UserWarning: To copy construct from a tensor, it is recommended to use sourceTensor.clone().detach() or sourceTensor.clone().detach().requires_grad_(True), rather than torch.tensor(sourceTensor).\n",
      "  outputs = torch.tensor((outputs[:, 0] >= 0.5).float())\n"
     ]
    },
    {
     "name": "stdout",
     "output_type": "stream",
     "text": [
      "Epoch [1/10], Loss: 0.8750, Accuracy: 76.04%\n",
      "Epoch [2/10], Loss: 0.3861, Accuracy: 92.76%\n",
      "Epoch [3/10], Loss: 0.1933, Accuracy: 96.57%\n",
      "Epoch [4/10], Loss: 0.1612, Accuracy: 97.24%\n",
      "Epoch [5/10], Loss: 0.1419, Accuracy: 97.14%\n",
      "Epoch [6/10], Loss: 0.3585, Accuracy: 94.91%\n",
      "Epoch [7/10], Loss: 0.2041, Accuracy: 96.51%\n",
      "Epoch [8/10], Loss: 0.2522, Accuracy: 97.24%\n",
      "Epoch [9/10], Loss: 0.1090, Accuracy: 98.23%\n",
      "Epoch [10/10], Loss: 0.1626, Accuracy: 97.64%\n",
      "Finished Training\n"
     ]
    }
   ],
   "source": [
    "# Instantiate Model, Loss Function, and Optimizer\n",
    "model = SpamDetector().to(device)\n",
    "criterion = nn.BCEWithLogitsLoss(pos_weight=torch.FloatTensor([4150/1896])) \n",
    "optimizer = torch.optim.Adam(model.parameters(), lr=LEARNING_RATE)\n",
    "\n",
    "model.train()\n",
    "\n",
    "for epoch in range(NUM_EPOCHS):\n",
    "\n",
    "    accuracy = 0\n",
    "    avg_loss = 0\n",
    "    correct = 0\n",
    "    total = 0\n",
    "\n",
    "    for i, (inputs, labels) in enumerate(train_loader):\n",
    "        inputs, labels = inputs.to(device), labels.to(device)\n",
    "        labels = labels.float()\n",
    "        # Forward Pass\n",
    "        outputs = model(inputs)\n",
    "        loss = criterion(outputs[:,0], labels)\n",
    "        \n",
    "        # Backward and Optimize\n",
    "        optimizer.zero_grad()\n",
    "        loss.backward()\n",
    "        optimizer.step()\n",
    "        \n",
    "        # Get predictions and compute accuracy\n",
    "        outputs = torch.tensor((outputs[:, 0] >= 0.5).float())\n",
    "        total += labels.size(0)  # Total number of labels\n",
    "        correct += (outputs == labels).sum().item()  # Count correct predictions\n",
    "        \n",
    "        avg_loss += loss.item()\n",
    "        \n",
    "    # Calculate and print the average loss and accuracy for the epoch\n",
    "    avg_loss /= len(train_loader)\n",
    "    accuracy = 100 * correct / total\n",
    "\n",
    "    print(f'Epoch [{epoch+1}/{NUM_EPOCHS}], Loss: {avg_loss:.4f}, Accuracy: {accuracy:.2f}%')\n",
    "\n",
    "print('Finished Training')"
   ]
  },
  {
   "cell_type": "markdown",
   "metadata": {},
   "source": [
    "Running model on test set"
   ]
  },
  {
   "cell_type": "code",
   "execution_count": null,
   "metadata": {},
   "outputs": [
    {
     "name": "stdout",
     "output_type": "stream",
     "text": [
      "Predicted: 0.0 | Actual: 0.0\n",
      "Predicted: 0.0 | Actual: 0.0\n",
      "Predicted: 1.0 | Actual: 1.0\n",
      "Predicted: 0.0 | Actual: 0.0\n",
      "Predicted: 0.0 | Actual: 0.0\n",
      "Predicted: 0.0 | Actual: 0.0\n",
      " ...,\n",
      "Predicted: 1.0 | Actual: 1.0\n",
      "Predicted: 0.0 | Actual: 0.0\n",
      "Predicted: 0.0 | Actual: 0.0\n",
      "Accuracy on test set: 95.70%\n"
     ]
    }
   ],
   "source": [
    "# Evaluation on Test Data\n",
    "model.eval()\n",
    "correct = 0\n",
    "total = 0\n",
    "\n",
    "with torch.no_grad():\n",
    "    for inputs, labels in test_loader:\n",
    "        inputs, labels = inputs.to(device), labels.to(device)  # Move to device\n",
    "        inputs = torch.clamp(inputs, max=vocab_size - 1)\n",
    "        outputs = model(inputs)\n",
    "        labels = labels.float()\n",
    "        # Move tensors to CPU and convert to numpy arrays\n",
    "        outputs = outputs.cpu().numpy()\n",
    "        labels = labels.cpu().numpy()\n",
    "        \n",
    "        predictions = [1.0 if value >= 0.5 else 0.0 for value in outputs]\n",
    "\n",
    "        total += labels.shape[0]\n",
    "        correct += (predictions == labels).sum().item()\n",
    "        \n",
    "        # Iterate over each sample in the batch\n",
    "        for i in range(len(predictions)):\n",
    "            print(f'Predicted: {predictions[i]} | Actual: {labels[i]}')\n",
    "\n",
    "print(f'Accuracy on test set: {100 * correct / total:.2f}%')"
   ]
  },
  {
   "cell_type": "code",
   "execution_count": 97,
   "metadata": {},
   "outputs": [
    {
     "name": "stdout",
     "output_type": "stream",
     "text": [
      "TIRED OF THE BULL OUT THERE?\n",
      "Want To Stop Losing Money?WANT A REAL MONEY MAKER?\n",
      "RECEIVE $1,000-$5,000 TODAY!\n",
      "EXPERTS ARE CALLING THIS THE FASTEST WAY TO HUGE CASH FLOW EVER CONCEIVED!A POWERHOUSE Gifting Program You Don't Want To Miss!\n",
      "We work as a TEAM! This is YOUR Private Invitation GET IN WITH THE FOUNDERS! This is where the BIG BOYS PLAY! The MAJOR PLAYERS are on This ONE For ONCE be where the Players areThis is a system that will drive $1,000's to your doorstep \n",
      "In a short period of time!Leverage $1000.00 into $50,000, Over and Over Again THE QUESTION HERE IS:YOU EITHER WANT TO BE WEALTHY OR YOU DON'T!!!WHICH ONE ARE YOU?I am tossing you a financial lifeline and for your sake I Hope you GRAB onto it and hold on tight For the Ride of your life!TestimonialsHear what average people are doing their first few days:\n",
      "...,\n",
      "This message is sent in compliance of the new e-mail bill. \"Per Section 301, Paragraph (a)(2)(C) of S. 1618, further transmissions by the sender of this email may be stopped, at no cost to you, by sending a reply to this email address with the word \"REMOVE\" in the subject line. Errors, omissions, and exceptions excluded. \n",
      "This is NOT spam! I have compiled this list from our Replicate Database, relative to Seattle Marketing Group, The Gigt, or Turbo Team for the sole purpose of these communications. Your continued inclusion is ONLY by your gracious permission. If you wish to not receive this mail from me, please send an email to  tesrewinter@yahoo.com with \"Remove\" in the subject and you will be deleted immediately.\n",
      "\n",
      "Predicted class: 1.0\n",
      "Actual class:  1\n"
     ]
    }
   ],
   "source": [
    "index = 8\n",
    "with torch.no_grad():\n",
    "    out = model(emails_pad[index].unsqueeze(0))\n",
    "    predicted_class = torch.round(torch.sigmoid(out))  # or use .argmax() for multi-class\n",
    "    print(emails[index])\n",
    "    print(\"Predicted class:\", predicted_class.item())\n",
    "    print(\"Actual class: \", labels[index])"
   ]
  },
  {
   "cell_type": "code",
   "execution_count": 121,
   "metadata": {},
   "outputs": [
    {
     "name": "stdout",
     "output_type": "stream",
     "text": [
      "-----BEGIN PGP SIGNED MESSAGE-----=============================================================================\n",
      "FreeBSD-SA-02:36.nfs                                        Security Advisory\n",
      "                                                          The FreeBSD ProjectTopic:          Bug in NFS server code allows remote denial of serviceCategory:       core\n",
      "Module:         nfs\n",
      "Announced:      2002-08-05\n",
      "Credits:        Mike Junk \n",
      "Affects:        All releases prior to 4.6.1-RELEASE-p7\n",
      "                4.6-STABLE prior to the correction date\n",
      "Corrected:      2002-07-19 17:19:53 UTC (RELENG_4)\n",
      "                2002-08-01 19:31:55 UTC (RELENG_4_6)\n",
      "                2002-08-01 19:31:54 UTC (RELENG_4_5)\n",
      "                2002-08-01 19:31:54 UTC (RELENG_4_4)\n",
      "FreeBSD only:   NOI.   BackgroundThe Network File System (NFS) allows a host to export some or all of\n",
      "its filesystems, or parts of them, so that other hosts can access them\n",
      " ...,\n",
      "T1Y/CN0DNYA=\n",
      "=2YSa\n",
      "-----END PGP SIGNATURE-----\n",
      "\n",
      "Predicted class: 0.0\n",
      "Actual class:  0\n"
     ]
    }
   ],
   "source": [
    "index = 5263\n",
    "with torch.no_grad():\n",
    "    out = model(emails_pad[index].unsqueeze(0))\n",
    "    predicted_class = torch.round(torch.sigmoid(out))  # or use .argmax() for multi-class\n",
    "    print(emails[index])\n",
    "    print(\"Predicted class:\", predicted_class.item())\n",
    "    print(\"Actual class: \", labels[index])"
   ]
  },
  {
   "cell_type": "markdown",
   "metadata": {},
   "source": [
    "Email: rohan11parekh@gmail.com \n",
    "\n",
    "LinkedIn: https://www.linkedin.com/in/rohan-parekh-39b070225/"
   ]
  }
 ],
 "metadata": {
  "kernelspec": {
   "display_name": "Python 3",
   "language": "python",
   "name": "python3"
  },
  "language_info": {
   "codemirror_mode": {
    "name": "ipython",
    "version": 3
   },
   "file_extension": ".py",
   "mimetype": "text/x-python",
   "name": "python",
   "nbconvert_exporter": "python",
   "pygments_lexer": "ipython3",
   "version": "3.11.6"
  }
 },
 "nbformat": 4,
 "nbformat_minor": 2
}
